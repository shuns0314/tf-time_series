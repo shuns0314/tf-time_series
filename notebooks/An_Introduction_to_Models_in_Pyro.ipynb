{
 "cells": [
  {
   "cell_type": "code",
   "execution_count": 52,
   "id": "521cd988",
   "metadata": {},
   "outputs": [],
   "source": [
    "import numpy as np\n",
    "import matplotlib.pyplot as plt\n",
    "\n",
    "import torch\n",
    "import torch.nn as nn\n",
    "import torch.nn.functional as F\n",
    "import pyro\n",
    "plt.style.use(\"seaborn\")"
   ]
  },
  {
   "cell_type": "code",
   "execution_count": 48,
   "id": "33397a1f",
   "metadata": {},
   "outputs": [
    {
     "name": "stdout",
     "output_type": "stream",
     "text": [
      "tensor(0.0898)\n"
     ]
    }
   ],
   "source": [
    "x = pyro.sample(\"x\", pyro.distributions.Normal(0, 1))\n",
    "print(x)"
   ]
  },
  {
   "cell_type": "code",
   "execution_count": 60,
   "id": "c875250d",
   "metadata": {},
   "outputs": [
    {
     "data": {
      "image/png": "[encoded data removed]",
      "text/plain": [
       "<Figure size 576x396 with 1 Axes>"
      ]
     },
     "metadata": {},
     "output_type": "display_data"
    }
   ],
   "source": [
    "N = 100\n",
    "x_list = []\n",
    "for _ in range(N):\n",
    "    x = pyro.sample(\"x\", pyro.distributions.Normal(0, 1))\n",
    "    x_list.append(float(x))\n",
    "plt.hist(x_list, bins=10,)\n",
    "plt.show()"
   ]
  },
  {
   "cell_type": "code",
   "execution_count": 61,
   "id": "d7ece612",
   "metadata": {},
   "outputs": [],
   "source": [
    "with pyro.plate(\"samples\", N):\n",
    "    x = pyro.sample(\"x\", pyro.distributions.Normal(0, 1))"
   ]
  },
  {
   "cell_type": "code",
   "execution_count": 75,
   "id": "c05042b7",
   "metadata": {},
   "outputs": [
    {
     "data": {
      "text/plain": [
       "(array([ 3.,  8.,  8., 21., 21., 12., 14.,  9.,  1.,  3.]),\n",
       " array([-2.18601489, -1.69299288, -1.19997087, -0.70694885, -0.21392684,\n",
       "         0.27909517,  0.77211719,  1.2651392 ,  1.75816121,  2.25118322,\n",
       "         2.74420524]),\n",
       " <BarContainer object of 10 artists>)"
      ]
     },
     "execution_count": 75,
     "metadata": {},
     "output_type": "execute_result"
    },
    {
     "data": {
      "image/png": "[encoded data removed]",
      "text/plain": [
       "<Figure size 576x396 with 1 Axes>"
      ]
     },
     "metadata": {},
     "output_type": "display_data"
    }
   ],
   "source": [
    "plt.hist(x.tolist())"
   ]
  },
  {
   "cell_type": "code",
   "execution_count": 76,
   "id": "84e18dae",
   "metadata": {},
   "outputs": [
    {
     "name": "stdout",
     "output_type": "stream",
     "text": [
      "tensor([5.], requires_grad=True)\n",
      "tensor([1.], requires_grad=True)\n",
      "<pyro.params.param_store.ParamStoreDict object at 0x7f7be9e215b0>\n",
      "a\n",
      "b\n",
      "weight\n",
      "bias\n"
     ]
    }
   ],
   "source": [
    "w = pyro.param(\"weight\", init_tensor=torch.tensor([5.], requires_grad=True))\n",
    "b = pyro.param(\"bias\", init_tensor=torch.tensor([1.], requires_grad=True))\n",
    "\n",
    "print(w)\n",
    "print(b)\n",
    "\n",
    "print(pyro.get_param_store())\n",
    "\n",
    "for param in pyro.get_param_store():\n",
    "    print(param)"
   ]
  },
  {
   "cell_type": "code",
   "execution_count": null,
   "id": "b79f2bf8",
   "metadata": {},
   "outputs": [],
   "source": []
  }
 ],
 "metadata": {
  "kernelspec": {
   "display_name": "Python 3",
   "language": "python",
   "name": "python3"
  },
  "language_info": {
   "codemirror_mode": {
    "name": "ipython",
    "version": 3
   },
   "file_extension": ".py",
   "mimetype": "text/x-python",
   "name": "python",
   "nbconvert_exporter": "python",
   "pygments_lexer": "ipython3",
   "version": "3.8.5"
  }
 },
 "nbformat": 4,
 "nbformat_minor": 5
}
